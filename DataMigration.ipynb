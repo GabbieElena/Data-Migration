{
 "cells": [
  {
   "cell_type": "code",
   "execution_count": 2,
   "id": "4e198506-1cf9-40da-bbec-6f14471a2ede",
   "metadata": {},
   "outputs": [],
   "source": [
    "import pandas as pd\n",
    "import os"
   ]
  },
  {
   "cell_type": "code",
   "execution_count": 6,
   "id": "b9c22872-f105-4f00-8908-5d57776ec002",
   "metadata": {},
   "outputs": [],
   "source": [
    "Data_Migration_df = pd.read_csv(\"Migration_Interview_Data(Python).csv\")"
   ]
  },
  {
   "cell_type": "code",
   "execution_count": 8,
   "id": "fce0b08d-1000-4732-a2c1-f980f2455c40",
   "metadata": {},
   "outputs": [
    {
     "name": "stdout",
     "output_type": "stream",
     "text": [
      "50\n"
     ]
    }
   ],
   "source": [
    "print(Data_Migration_df.duplicated().sum())"
   ]
  },
  {
   "cell_type": "code",
   "execution_count": 10,
   "id": "7661351f-0a6e-4c39-b34d-b7d787e506e1",
   "metadata": {},
   "outputs": [],
   "source": [
    "Data_Migration_df.drop_duplicates(inplace= True)"
   ]
  },
  {
   "cell_type": "code",
   "execution_count": 12,
   "id": "a96fda9c-dc59-404e-b54c-963b3eec6f80",
   "metadata": {},
   "outputs": [
    {
     "name": "stdout",
     "output_type": "stream",
     "text": [
      "False    1000\n",
      "Name: count, dtype: int64\n"
     ]
    }
   ],
   "source": [
    "print(Data_Migration_df.duplicated().value_counts())"
   ]
  },
  {
   "cell_type": "code",
   "execution_count": 16,
   "id": "282b6418-e646-45ee-97b4-94b5d37808de",
   "metadata": {},
   "outputs": [],
   "source": [
    "dict = {'First Name': 'Contact: First Name',\n",
    "        'Middle Name': 'Contact: Middle Name',\n",
    "        'Last Name': 'Contact: Last Name',\n",
    "        'Date of Birth': 'Contact: Date of Birth',\n",
    "        'Assigned': 'Contact: Assigned',\n",
    "        'Phone Number': 'Contact: Phone Number',\n",
    "        'ID': 'Contact: ID'}\n",
    "Data_Migration_df.rename(columns=dict,\n",
    "                         inplace= True)"
   ]
  },
  {
   "cell_type": "code",
   "execution_count": 18,
   "id": "1a6d2cdf-71b1-4357-bb38-95199562db41",
   "metadata": {},
   "outputs": [
    {
     "data": {
      "text/html": [
       "<div>\n",
       "<style scoped>\n",
       "    .dataframe tbody tr th:only-of-type {\n",
       "        vertical-align: middle;\n",
       "    }\n",
       "\n",
       "    .dataframe tbody tr th {\n",
       "        vertical-align: top;\n",
       "    }\n",
       "\n",
       "    .dataframe thead th {\n",
       "        text-align: right;\n",
       "    }\n",
       "</style>\n",
       "<table border=\"1\" class=\"dataframe\">\n",
       "  <thead>\n",
       "    <tr style=\"text-align: right;\">\n",
       "      <th></th>\n",
       "      <th>Contact: First Name</th>\n",
       "      <th>Contact: Middle Name</th>\n",
       "      <th>Contact: Last Name</th>\n",
       "      <th>Contact: Date of Birth</th>\n",
       "      <th>Contact: Assigned</th>\n",
       "      <th>Contact: Phone Number</th>\n",
       "      <th>Contact: ID</th>\n",
       "    </tr>\n",
       "  </thead>\n",
       "  <tbody>\n",
       "    <tr>\n",
       "      <th>0</th>\n",
       "      <td>Frank</td>\n",
       "      <td>Marie</td>\n",
       "      <td>Smith</td>\n",
       "      <td>04/04/2009</td>\n",
       "      <td>IC</td>\n",
       "      <td>504523377</td>\n",
       "      <td>NaN</td>\n",
       "    </tr>\n",
       "    <tr>\n",
       "      <th>1</th>\n",
       "      <td>Evelyn</td>\n",
       "      <td>Thomas</td>\n",
       "      <td>Taylor</td>\n",
       "      <td>12/09/2010</td>\n",
       "      <td>AA</td>\n",
       "      <td>195730020</td>\n",
       "      <td>NaN</td>\n",
       "    </tr>\n",
       "    <tr>\n",
       "      <th>2</th>\n",
       "      <td>Frank</td>\n",
       "      <td>J.</td>\n",
       "      <td>Davis</td>\n",
       "      <td>31/12/2009</td>\n",
       "      <td>NaN</td>\n",
       "      <td>930095284</td>\n",
       "      <td>NaN</td>\n",
       "    </tr>\n",
       "    <tr>\n",
       "      <th>3</th>\n",
       "      <td>Evelyn</td>\n",
       "      <td>Thomas</td>\n",
       "      <td>MARTIN</td>\n",
       "      <td>25/04/2012</td>\n",
       "      <td>TM</td>\n",
       "      <td>999124133</td>\n",
       "      <td>NaN</td>\n",
       "    </tr>\n",
       "    <tr>\n",
       "      <th>4</th>\n",
       "      <td>Alan</td>\n",
       "      <td>E.</td>\n",
       "      <td>MARTIN</td>\n",
       "      <td>01/01/2023</td>\n",
       "      <td>GM</td>\n",
       "      <td>244017546</td>\n",
       "      <td>NaN</td>\n",
       "    </tr>\n",
       "  </tbody>\n",
       "</table>\n",
       "</div>"
      ],
      "text/plain": [
       "  Contact: First Name Contact: Middle Name Contact: Last Name  \\\n",
       "0               Frank                Marie              Smith   \n",
       "1              Evelyn               Thomas             Taylor   \n",
       "2               Frank                   J.              Davis   \n",
       "3              Evelyn               Thomas             MARTIN   \n",
       "4                Alan                   E.             MARTIN   \n",
       "\n",
       "  Contact: Date of Birth Contact: Assigned  Contact: Phone Number  Contact: ID  \n",
       "0             04/04/2009                IC              504523377          NaN  \n",
       "1             12/09/2010                AA              195730020          NaN  \n",
       "2             31/12/2009               NaN              930095284          NaN  \n",
       "3             25/04/2012                TM              999124133          NaN  \n",
       "4             01/01/2023                GM              244017546          NaN  "
      ]
     },
     "execution_count": 18,
     "metadata": {},
     "output_type": "execute_result"
    }
   ],
   "source": [
    "Data_Migration_df.head()"
   ]
  },
  {
   "cell_type": "code",
   "execution_count": 20,
   "id": "4ce82488-6363-4d4d-a5a8-1a245d0ecda8",
   "metadata": {},
   "outputs": [],
   "source": [
    "Data_Migration_df['Contact: First Name']= Data_Migration_df['Contact: First Name'].str.title()\n",
    "Data_Migration_df['Contact: Middle Name']= Data_Migration_df['Contact: Middle Name'].str.title()\n",
    "Data_Migration_df['Contact: Last Name']= Data_Migration_df['Contact: Last Name'].str.title()"
   ]
  },
  {
   "cell_type": "code",
   "execution_count": 22,
   "id": "2f315d2e-a64f-43b2-bcb5-77aec9e66bac",
   "metadata": {},
   "outputs": [],
   "source": [
    "Data_Migration_df['Contact: Date of Birth']= pd.to_datetime(Data_Migration_df['Contact: Date of Birth'], format= 'mixed')"
   ]
  },
  {
   "cell_type": "code",
   "execution_count": 24,
   "id": "6844e521-a22b-4e7a-80c5-cbea38b66358",
   "metadata": {},
   "outputs": [
    {
     "data": {
      "text/plain": [
       "Contact: First Name               object\n",
       "Contact: Middle Name              object\n",
       "Contact: Last Name                object\n",
       "Contact: Date of Birth    datetime64[ns]\n",
       "Contact: Assigned                 object\n",
       "Contact: Phone Number              int64\n",
       "Contact: ID                      float64\n",
       "dtype: object"
      ]
     },
     "execution_count": 24,
     "metadata": {},
     "output_type": "execute_result"
    }
   ],
   "source": [
    "Data_Migration_df.dtypes"
   ]
  },
  {
   "cell_type": "code",
   "execution_count": 26,
   "id": "a237a616-bf15-48c4-bcbc-24cba37dabe0",
   "metadata": {},
   "outputs": [
    {
     "name": "stdout",
     "output_type": "stream",
     "text": [
      "Defaulting to user installation because normal site-packages is not writeable\n",
      "Looking in links: /usr/share/pip-wheels\n",
      "Requirement already satisfied: jinja2 in /opt/conda/envs/anaconda-2024.02-py310/lib/python3.10/site-packages (3.1.3)\n",
      "Requirement already satisfied: MarkupSafe>=2.0 in /opt/conda/envs/anaconda-2024.02-py310/lib/python3.10/site-packages (from jinja2) (2.1.3)\n",
      "Note: you may need to restart the kernel to use updated packages.\n"
     ]
    }
   ],
   "source": [
    "%pip install jinja2"
   ]
  },
  {
   "cell_type": "code",
   "execution_count": 41,
   "id": "4fd5c835-c845-4f4f-bef7-8fd70045801f",
   "metadata": {},
   "outputs": [],
   "source": [
    "Data_Migration_df['Contact: Date of Birth'] = Data_Migration_df['Contact: Date of Birth'].dt.strftime('%m/%d/%Y')"
   ]
  },
  {
   "cell_type": "code",
   "execution_count": 43,
   "id": "74330886-a848-4005-a175-52eb36392c14",
   "metadata": {},
   "outputs": [],
   "source": [
    "import uuid"
   ]
  },
  {
   "cell_type": "code",
   "execution_count": 45,
   "id": "715e0a34-2609-4c61-9e25-1e1ae14fb235",
   "metadata": {},
   "outputs": [],
   "source": [
    "Data_Migration_df['Contact: ID'] = [uuid.uuid4() for _ in range (len(Data_Migration_df))]"
   ]
  },
  {
   "cell_type": "code",
   "execution_count": 47,
   "id": "81b39afd-8fcd-46e1-a814-db5cf4c18c53",
   "metadata": {},
   "outputs": [],
   "source": [
    "Data_Migration_df= Data_Migration_df.replace(['GM', 'AA', 'BL', 'IC', 'TM'],\n",
    "                                             ['Gabe Michel', 'Aaron Artsen', 'Bond Liver', 'Individual Contributor', 'Tim Mint'])"
   ]
  },
  {
   "cell_type": "code",
   "execution_count": 49,
   "id": "94aa1911-b4d0-471d-92d2-1359fcc6732b",
   "metadata": {},
   "outputs": [],
   "source": [
    "Data_Migration_df['Contact: Assigned']= Data_Migration_df['Contact: Assigned'].fillna('Gabe Michel')"
   ]
  },
  {
   "cell_type": "code",
   "execution_count": 51,
   "id": "7a709847-7272-42b2-a502-ccb72179107c",
   "metadata": {},
   "outputs": [],
   "source": [
    "Data_Migration_df.to_csv('Data_Migration.csv')"
   ]
  },
  {
   "cell_type": "code",
   "execution_count": null,
   "id": "ace3a22f-a39f-4f83-b7bc-0b44bbba320b",
   "metadata": {},
   "outputs": [],
   "source": []
  }
 ],
 "metadata": {
  "kernelspec": {
   "display_name": "anaconda-2024.02-py310",
   "language": "python",
   "name": "conda-env-anaconda-2024.02-py310-py"
  },
  "language_info": {
   "codemirror_mode": {
    "name": "ipython",
    "version": 3
   },
   "file_extension": ".py",
   "mimetype": "text/x-python",
   "name": "python",
   "nbconvert_exporter": "python",
   "pygments_lexer": "ipython3",
   "version": "3.10.14"
  }
 },
 "nbformat": 4,
 "nbformat_minor": 5
}
